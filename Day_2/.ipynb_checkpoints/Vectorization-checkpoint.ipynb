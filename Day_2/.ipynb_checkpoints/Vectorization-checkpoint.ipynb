{
 "cells": [
  {
   "cell_type": "code",
   "execution_count": 3,
   "metadata": {},
   "outputs": [],
   "source": [
    "import time\n",
    "import numpy as np"
   ]
  },
  {
   "cell_type": "code",
   "execution_count": 4,
   "metadata": {},
   "outputs": [],
   "source": [
    "a = np.random.rand(3000000)\n",
    "b = np.random.rand(3000000)"
   ]
  },
  {
   "cell_type": "code",
   "execution_count": 6,
   "metadata": {},
   "outputs": [
    {
     "name": "stdout",
     "output_type": "stream",
     "text": [
      "750092.1406440774\n",
      "time: 4.4956207275390625ms\n"
     ]
    }
   ],
   "source": [
    "init = time.time()\n",
    "c = np.dot(a,b)\n",
    "fin = time.time()\n",
    "print(c)\n",
    "print(\"time: \" + str(1000 * (fin-init))+\"ms\")"
   ]
  },
  {
   "cell_type": "code",
   "execution_count": 7,
   "metadata": {},
   "outputs": [
    {
     "name": "stdout",
     "output_type": "stream",
     "text": [
      "750092.140644015\n",
      "time: 1139.0385627746582ms\n"
     ]
    }
   ],
   "source": [
    "c = 0\n",
    "init = time.time()\n",
    "for i in range(3000000):\n",
    "    c += a[i]*b[i]\n",
    "fin = time.time()\n",
    "print(c)\n",
    "print(\"time: \" + str(1000 * (fin-init))+\"ms\")"
   ]
  },
  {
   "cell_type": "code",
   "execution_count": null,
   "metadata": {},
   "outputs": [],
   "source": []
  }
 ],
 "metadata": {
  "kernelspec": {
   "display_name": "Python 3",
   "language": "python",
   "name": "python3"
  },
  "language_info": {
   "codemirror_mode": {
    "name": "ipython",
    "version": 3
   },
   "file_extension": ".py",
   "mimetype": "text/x-python",
   "name": "python",
   "nbconvert_exporter": "python",
   "pygments_lexer": "ipython3",
   "version": "3.6.5"
  }
 },
 "nbformat": 4,
 "nbformat_minor": 2
}
