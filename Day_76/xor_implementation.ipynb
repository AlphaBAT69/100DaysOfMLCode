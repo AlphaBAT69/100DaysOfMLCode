{
 "cells": [
  {
   "cell_type": "code",
   "execution_count": 1,
   "metadata": {},
   "outputs": [],
   "source": [
    "import tensorflow as tf\n",
    "import numpy as np"
   ]
  },
  {
   "cell_type": "code",
   "execution_count": 2,
   "metadata": {},
   "outputs": [],
   "source": [
    "sess = tf.InteractiveSession()"
   ]
  },
  {
   "cell_type": "code",
   "execution_count": 3,
   "metadata": {},
   "outputs": [],
   "source": [
    "X = np.array([[0, 0], [0, 1], [1, 0], [1, 1]])\n",
    "Y = np.array([[1, 0], [0, 1], [0, 1], [1, 0]])\n",
    "\n",
    "x = tf.placeholder(tf.float32, shape = X.shape)\n",
    "y = tf.placeholder(tf.float32, shape = Y.shape)\n",
    "\n",
    "number_of_hidden_nodes = 18"
   ]
  },
  {
   "cell_type": "code",
   "execution_count": 4,
   "metadata": {},
   "outputs": [],
   "source": [
    "# Layer 1\n",
    "W1 = tf.Variable(tf.random_uniform([2, number_of_hidden_nodes], -.01, .01))\n",
    "b1 = tf.Variable(tf.random_uniform([number_of_hidden_nodes], -.01, .01))\n",
    "\n",
    "hidden1 = tf.nn.relu(tf.matmul(x, W1) + b1)"
   ]
  },
  {
   "cell_type": "code",
   "execution_count": 5,
   "metadata": {},
   "outputs": [],
   "source": [
    "# Layer 2\n",
    "W2 = tf.Variable(tf.random_uniform([number_of_hidden_nodes, 2], -.01, .01))\n",
    "b2 = tf.Variable(tf.random_uniform([2], -.01, .01))\n",
    "\n",
    "y_output = tf.nn.softmax(tf.matmul(hidden1, W2) + b2)"
   ]
  },
  {
   "cell_type": "code",
   "execution_count": 6,
   "metadata": {},
   "outputs": [],
   "source": [
    "cross_entropy = -tf.reduce_sum(y * tf.log(y_output))\n",
    "train_step = tf.train.GradientDescentOptimizer(0.2).minimize(cross_entropy)"
   ]
  },
  {
   "cell_type": "code",
   "execution_count": 7,
   "metadata": {},
   "outputs": [
    {
     "name": "stdout",
     "output_type": "stream",
     "text": [
      "step 0 : entropy_loss 2.7725868225097656\n",
      "step 1 : entropy_loss 2.772556781768799\n",
      "step 2 : entropy_loss 2.7725324630737305\n",
      "step 3 : entropy_loss 2.772523880004883\n",
      "step 4 : entropy_loss 2.772498607635498\n",
      "step 5 : entropy_loss 2.772486686706543\n",
      "step 6 : entropy_loss 2.772468090057373\n",
      "step 7 : entropy_loss 2.7724556922912598\n",
      "step 8 : entropy_loss 2.7724061012268066\n",
      "step 9 : entropy_loss 2.772402763366699\n",
      "step 10 : entropy_loss 2.7723522186279297\n",
      "step 11 : entropy_loss 2.77230167388916\n",
      "step 12 : entropy_loss 2.772263526916504\n",
      "step 13 : entropy_loss 2.772212028503418\n",
      "step 14 : entropy_loss 2.77209210395813\n",
      "step 15 : entropy_loss 2.772068738937378\n",
      "step 16 : entropy_loss 2.7719364166259766\n",
      "step 17 : entropy_loss 2.771784782409668\n",
      "step 18 : entropy_loss 2.771692991256714\n",
      "step 19 : entropy_loss 2.7715227603912354\n",
      "step 20 : entropy_loss 2.7712132930755615\n",
      "step 21 : entropy_loss 2.771117687225342\n",
      "step 22 : entropy_loss 2.7707862854003906\n",
      "step 23 : entropy_loss 2.7703633308410645\n",
      "step 24 : entropy_loss 2.770112991333008\n",
      "step 25 : entropy_loss 2.769617795944214\n",
      "step 26 : entropy_loss 2.7688827514648438\n",
      "step 27 : entropy_loss 2.768522262573242\n",
      "step 28 : entropy_loss 2.7676286697387695\n",
      "step 29 : entropy_loss 2.7664780616760254\n",
      "step 30 : entropy_loss 2.7657928466796875\n",
      "step 31 : entropy_loss 2.7643868923187256\n",
      "step 32 : entropy_loss 2.7624077796936035\n",
      "step 33 : entropy_loss 2.7613396644592285\n",
      "step 34 : entropy_loss 2.7588541507720947\n",
      "step 35 : entropy_loss 2.7558205127716064\n",
      "step 36 : entropy_loss 2.7537214756011963\n",
      "step 37 : entropy_loss 2.750002384185791\n",
      "step 38 : entropy_loss 2.7445294857025146\n",
      "step 39 : entropy_loss 2.7416229248046875\n",
      "step 40 : entropy_loss 2.7345142364501953\n",
      "step 41 : entropy_loss 2.727022171020508\n",
      "step 42 : entropy_loss 2.720261573791504\n",
      "step 43 : entropy_loss 2.71150541305542\n",
      "step 44 : entropy_loss 2.6955976486206055\n",
      "step 45 : entropy_loss 2.689507484436035\n",
      "step 46 : entropy_loss 2.667937994003296\n",
      "step 47 : entropy_loss 2.653216600418091\n",
      "step 48 : entropy_loss 2.6295275688171387\n",
      "step 49 : entropy_loss 2.616032123565674\n",
      "step 50 : entropy_loss 2.5663633346557617\n",
      "step 51 : entropy_loss 2.5598978996276855\n",
      "step 52 : entropy_loss 2.4923253059387207\n",
      "step 53 : entropy_loss 2.4992270469665527\n",
      "step 54 : entropy_loss 2.3922009468078613\n",
      "step 55 : entropy_loss 2.40852952003479\n",
      "step 56 : entropy_loss 2.3342270851135254\n",
      "step 57 : entropy_loss 2.229692220687866\n",
      "step 58 : entropy_loss 2.221188545227051\n",
      "step 59 : entropy_loss 2.068070650100708\n",
      "step 60 : entropy_loss 2.092769145965576\n",
      "step 61 : entropy_loss 1.9806175231933594\n",
      "step 62 : entropy_loss 1.8245644569396973\n",
      "step 63 : entropy_loss 1.7770185470581055\n",
      "step 64 : entropy_loss 1.7335386276245117\n",
      "step 65 : entropy_loss 1.4970017671585083\n",
      "step 66 : entropy_loss 1.4837510585784912\n",
      "step 67 : entropy_loss 1.4309659004211426\n",
      "step 68 : entropy_loss 1.249627947807312\n",
      "step 69 : entropy_loss 1.1722474098205566\n",
      "step 70 : entropy_loss 1.0682377815246582\n",
      "step 71 : entropy_loss 1.0104058980941772\n"
     ]
    }
   ],
   "source": [
    "# Training\n",
    "tf.global_variables_initializer().run()\n",
    "for step in range(1000):\n",
    "    e, a = sess.run([cross_entropy, train_step], {x: X, y: Y})\n",
    "    if e<1:\n",
    "        break\n",
    "    print('step {0} : entropy_loss {1}'.format(step, e))"
   ]
  },
  {
   "cell_type": "code",
   "execution_count": 8,
   "metadata": {},
   "outputs": [],
   "source": [
    "prediction = tf.equal(tf.argmax(y_output, 1), tf.argmax(y, 1))\n",
    "accuracy = tf.reduce_mean(tf.cast(prediction, tf.float32))"
   ]
  },
  {
   "cell_type": "code",
   "execution_count": 9,
   "metadata": {},
   "outputs": [
    {
     "name": "stdout",
     "output_type": "stream",
     "text": [
      "accuracy 1.0\n"
     ]
    }
   ],
   "source": [
    "print('accuracy {0}'.format(accuracy.eval({x: X, y: Y})))"
   ]
  },
  {
   "cell_type": "code",
   "execution_count": 10,
   "metadata": {},
   "outputs": [
    {
     "name": "stdout",
     "output_type": "stream",
     "text": [
      "[0 1 1 0]\n"
     ]
    }
   ],
   "source": [
    "learned_output = tf.argmax(y_output, 1)\n",
    "print(learned_output.eval({x: X}))"
   ]
  },
  {
   "cell_type": "code",
   "execution_count": null,
   "metadata": {},
   "outputs": [],
   "source": []
  }
 ],
 "metadata": {
  "kernelspec": {
   "display_name": "Python 3",
   "language": "python",
   "name": "python3"
  },
  "language_info": {
   "codemirror_mode": {
    "name": "ipython",
    "version": 3
   },
   "file_extension": ".py",
   "mimetype": "text/x-python",
   "name": "python",
   "nbconvert_exporter": "python",
   "pygments_lexer": "ipython3",
   "version": "3.6.7"
  }
 },
 "nbformat": 4,
 "nbformat_minor": 2
}
